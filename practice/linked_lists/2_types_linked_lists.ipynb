{
 "cells": [
  {
   "cell_type": "markdown",
   "metadata": {},
   "source": [
    "## Types of Linked Lists\n",
    "\n",
    "### Singly Linked Lists\n",
    "\n",
    "Each node is connected only to the next node in the list. As done in 1_implement_linked_list.ipynb\n",
    "\n",
    "Usually you'll want to create a LinkedList class as a wrapper for the nodes themselves and to provide common methods that operate on the list. For example you can implement an append method that adds a value to the end of the list. \n",
    "\n",
    "Note that if we're only tracking the head of the list, this runs in linear time - 𝑂(𝑁) - since you have to iterate through the entire list to get to the tail node. \n",
    "\n",
    "However, prepending (adding to the head of the list) can be done in constant 𝑂(1) time. You'll implement this prepend method in the Linked List "
   ]
  },
  {
   "cell_type": "code",
   "execution_count": 40,
   "metadata": {},
   "outputs": [],
   "source": [
    "class Node:\n",
    "    def __init__(self, value):\n",
    "        self.value = value\n",
    "        self.next = None"
   ]
  },
  {
   "cell_type": "code",
   "execution_count": 41,
   "metadata": {},
   "outputs": [],
   "source": [
    "# A small linked list:\n",
    "\n",
    "head = Node(1)\n",
    "head.next = Node(2)"
   ]
  },
  {
   "cell_type": "code",
   "execution_count": 42,
   "metadata": {},
   "outputs": [],
   "source": [
    "class LinkedList:\n",
    "    def __init__(self):\n",
    "        self.head = None\n",
    "        \n",
    "    def append(self, value):\n",
    "        if self.head is None:\n",
    "            self.head = Node(value) # head pts to beginning of list\n",
    "            return\n",
    "        \n",
    "        # Start at the head and move to the tail (the last node)\n",
    "        node = self.head\n",
    "        while node.next:\n",
    "            node = node.next\n",
    "        \n",
    "        # create new node at the end and point to it\n",
    "        node.next = Node(value)\n",
    "        return\n",
    "    \n",
    "    def to_list(self):\n",
    "        # converts a linked list back into a Python list\n",
    "        py_list = list()\n",
    "        \n",
    "        node = self.head\n",
    "        while node:\n",
    "            py_list.append(node.value)\n",
    "            node = node.next\n",
    "        return py_list"
   ]
  },
  {
   "cell_type": "code",
   "execution_count": 43,
   "metadata": {},
   "outputs": [
    {
     "name": "stdout",
     "output_type": "stream",
     "text": [
      "Pass\n",
      "3\n",
      "2\n",
      "-1\n",
      "0.2\n"
     ]
    }
   ],
   "source": [
    "# Test your method here\n",
    "linked_list = LinkedList()\n",
    "linked_list.append(3)\n",
    "linked_list.append(2)\n",
    "linked_list.append(-1)\n",
    "linked_list.append(0.2)\n",
    "\n",
    "print (\"Pass\" if  (linked_list.to_list() == [3, 2, -1, 0.2]) else \"Fail\")\n",
    "\n",
    "node = linked_list.head\n",
    "while node:\n",
    "    print(node.value)\n",
    "    node = node.next"
   ]
  },
  {
   "cell_type": "markdown",
   "metadata": {},
   "source": [
    "### Doubly Linked Lists\n",
    "\n",
    "Each node is connected to the next node _and_ to the previous node in the list. Making it possible to go forward and backward through the list."
   ]
  },
  {
   "cell_type": "code",
   "execution_count": 44,
   "metadata": {},
   "outputs": [],
   "source": [
    "\n",
    "class DoubleNode:\n",
    "    def __init__(self, value):\n",
    "        self.value = value\n",
    "        self.next = None\n",
    "        self.previous = None\n",
    "\n",
    "class DoublyLinkedList:\n",
    "    def __init__(self):\n",
    "        self.head = None\n",
    "        self.tail = None\n",
    "    \n",
    "    def append(self, value):\n",
    "        if self.head is None:\n",
    "            # set the head, tail points to same\n",
    "            self.head = DoubleNode(value)\n",
    "            self.tail = self.head\n",
    "            return\n",
    "        \n",
    "        # note head never changes (unless it's removed)\n",
    "        self.tail.next = DoubleNode(value) # tail next points to new node\n",
    "        self.tail.next.previous = self.tail # point new node prev back to tail\n",
    "        self.tail = self.tail.next # point the tail to the end of list again\n",
    "        return\n",
    "\n"
   ]
  },
  {
   "cell_type": "code",
   "execution_count": 45,
   "metadata": {},
   "outputs": [
    {
     "name": "stdout",
     "output_type": "stream",
     "text": [
      "\n",
      "1st DLL\n",
      "<__main__.DoubleNode object at 0x7f6398b7e940>\n",
      "<__main__.DoubleNode object at 0x7f6398b7e940>\n",
      "\n",
      "2nd DLL\n",
      "<__main__.DoubleNode object at 0x7f6398b7e940>\n",
      "<__main__.DoubleNode object at 0x7f6398b6f3c8>\n",
      "\n",
      "3rd DLL\n",
      "<__main__.DoubleNode object at 0x7f6398b7e940>\n",
      "<__main__.DoubleNode object at 0x7f6398b6f6a0>\n",
      "\n",
      "Going forward through the list, should print 1, -2, 4\n",
      "1\n",
      "-2\n",
      "4\n",
      "\n",
      "Going backward through the list, should print 4, -2, 1\n",
      "4\n",
      "-2\n",
      "1\n"
     ]
    }
   ],
   "source": [
    "# Test your class here\n",
    "\n",
    "linked_list = DoublyLinkedList()\n",
    "\n",
    "linked_list.append(1)\n",
    "print(\"\\n1st DLL\")\n",
    "print(linked_list.head)\n",
    "print(linked_list.tail)\n",
    "\n",
    "linked_list.append(-2)\n",
    "print(\"\\n2nd DLL\")\n",
    "print(linked_list.head)\n",
    "print(linked_list.tail)\n",
    "\n",
    "linked_list.append(4)\n",
    "print(\"\\n3rd DLL\")\n",
    "print(linked_list.head)\n",
    "print(linked_list.tail)\n",
    "\n",
    "print(\"\\nGoing forward through the list, should print 1, -2, 4\")\n",
    "node = linked_list.head\n",
    "while node:\n",
    "    print(node.value)\n",
    "    node = node.next\n",
    "\n",
    "print(\"\\nGoing backward through the list, should print 4, -2, 1\")\n",
    "node = linked_list.tail\n",
    "while node:\n",
    "    print(node.value)\n",
    "    node = node.previous"
   ]
  },
  {
   "cell_type": "markdown",
   "metadata": {},
   "source": [
    "### Additional Resources\n",
    "\n",
    "YouTube [video](https://www.youtube.com/watch?v=Bd1L64clh34) on singly linked lists by Joe James.\n",
    "\n",
    "Note there are additional videos on other types of lists as well by expanding the SHOW MORE link. Code is available on GitHub [here](https://github.com/joeyajames/Python/tree/master/LinkedLists)\n",
    "\n",
    "Explanation of [Single Linked Lists](https://stackabuse.com/linked-lists-in-detail-with-python-examples-single-linked-lists/) in detail.\n",
    "\n",
    "**Python Data Structures [Tutorial](https://www.pythoncentral.io/series/python-data-structures-tutorial/)**\n"
   ]
  },
  {
   "cell_type": "code",
   "execution_count": null,
   "metadata": {},
   "outputs": [],
   "source": []
  }
 ],
 "metadata": {
  "kernelspec": {
   "display_name": "Python 3",
   "language": "python",
   "name": "python3"
  },
  "language_info": {
   "codemirror_mode": {
    "name": "ipython",
    "version": 3
   },
   "file_extension": ".py",
   "mimetype": "text/x-python",
   "name": "python",
   "nbconvert_exporter": "python",
   "pygments_lexer": "ipython3",
   "version": "3.7.3"
  }
 },
 "nbformat": 4,
 "nbformat_minor": 2
}
