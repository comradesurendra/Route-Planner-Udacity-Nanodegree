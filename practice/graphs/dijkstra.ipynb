{
 "cells": [
  {
   "cell_type": "markdown",
   "metadata": {
    "graffitiCellId": "id_0ojz955"
   },
   "source": [
    "# Dijkstra's Algorithm\n",
    "In this exercise, you'll implement Dijkstra's algorithm. First, let's build the graph.\n",
    "## Graph Representation\n",
    "In order to run Dijkstra's Algorithm, we'll need to add distance to each edge. We'll use the `GraphEdge` class below to represent each edge between a node."
   ]
  },
  {
   "cell_type": "code",
   "execution_count": 1,
   "metadata": {
    "graffitiCellId": "id_popacit"
   },
   "outputs": [],
   "source": [
    "class GraphEdge(object):\n",
    "    def __init__(self, node, distance):\n",
    "        self.node = node\n",
    "        self.distance = distance"
   ]
  },
  {
   "cell_type": "markdown",
   "metadata": {
    "graffitiCellId": "id_ljgv5p0"
   },
   "source": [
    "The new graph representation should look like this:"
   ]
  },
  {
   "cell_type": "code",
   "execution_count": 2,
   "metadata": {
    "graffitiCellId": "id_llarxxs"
   },
   "outputs": [],
   "source": [
    "class GraphNode(object):\n",
    "    def __init__(self, val):\n",
    "        self.value = val\n",
    "        self.edges = []\n",
    "\n",
    "    def add_child(self, node, distance):\n",
    "        self.edges.append(GraphEdge(node, distance))\n",
    "\n",
    "    def remove_child(self, del_node):\n",
    "        if del_node in self.edges:\n",
    "            self.edges.remove(del_node)\n",
    "\n",
    "class Graph(object):\n",
    "    def __init__(self, node_list):\n",
    "        self.nodes = node_list\n",
    "\n",
    "    def add_edge(self, node1, node2, distance):\n",
    "        if node1 in self.nodes and node2 in self.nodes:\n",
    "            node1.add_child(node2, distance)\n",
    "            node2.add_child(node1, distance)\n",
    "\n",
    "    def remove_edge(self, node1, node2):\n",
    "        if node1 in self.nodes and node2 in self.nodes:\n",
    "            node1.remove_child(node2)\n",
    "            node2.remove_child(node1)"
   ]
  },
  {
   "cell_type": "markdown",
   "metadata": {
    "graffitiCellId": "id_2m0r1p6"
   },
   "source": [
    "Now let's create the graph."
   ]
  },
  {
   "cell_type": "code",
   "execution_count": 3,
   "metadata": {
    "graffitiCellId": "id_9zgbdrn"
   },
   "outputs": [],
   "source": [
    "node_u = GraphNode('U')\n",
    "node_d = GraphNode('D')\n",
    "node_a = GraphNode('A')\n",
    "node_c = GraphNode('C')\n",
    "node_i = GraphNode('I')\n",
    "node_t = GraphNode('T')\n",
    "node_y = GraphNode('Y')\n",
    "\n",
    "graph = Graph([node_u, node_d, node_a, node_c, node_i, node_t, node_y])\n",
    "graph.add_edge(node_u, node_a, 4)\n",
    "graph.add_edge(node_u, node_c, 6)\n",
    "graph.add_edge(node_u, node_d, 3)\n",
    "graph.add_edge(node_d, node_u, 3)\n",
    "graph.add_edge(node_d, node_c, 4)\n",
    "graph.add_edge(node_a, node_u, 4)\n",
    "graph.add_edge(node_a, node_i, 7)\n",
    "graph.add_edge(node_c, node_d, 4)\n",
    "graph.add_edge(node_c, node_u, 6)\n",
    "graph.add_edge(node_c, node_i, 4)\n",
    "graph.add_edge(node_c, node_t, 5)\n",
    "graph.add_edge(node_i, node_a, 7)\n",
    "graph.add_edge(node_i, node_c, 4)\n",
    "graph.add_edge(node_i, node_y, 4)\n",
    "graph.add_edge(node_t, node_c, 5)\n",
    "graph.add_edge(node_t, node_y, 5)\n",
    "graph.add_edge(node_y, node_i, 4)\n",
    "graph.add_edge(node_y, node_t, 5)"
   ]
  },
  {
   "cell_type": "markdown",
   "metadata": {
    "graffitiCellId": "id_v79ttrc"
   },
   "source": [
    "## Implementation\n",
    "Using what you've learned, implement Dijkstra's Algorithm to find the shortest distance from the \"U\" node to the \"Y\" node. \n",
    "\n",
    "Algorithm: Shortest Path (G, s):  \n",
    "* Input: a weighted graph G and a vertix s of G  \n",
    "* Output: length of shortest path from s to v for each vertex v of G  \n",
    "  *  initialize distance D|s| = 0 and distance D|v| = infinity  \n",
    "  *  priority queue Q will contain all vertices of G having D labels as key  \n",
    "```   \n",
    "while Q is not empty:\n",
    "    <_push vertex u into queue_>\n",
    "    u = value returned from Q.remove_min()\n",
    "    for each vertex v adjacent to u such that v is in Q:\n",
    "        <relaxation procedure> \n",
    "        <takes an old estimate & checks if it can be improved to get closer to true value>\n",
    "        if D|u| + w(u,v) < D|v| :\n",
    "            D|v| = D|u| = w(u,v)\n",
    "            <change to D|v| the key of vertex v in Q>\n",
    "return the label D|v| of each vertex v\n",
    "```    \n",
    "\n",
    "D|v| will always store the length of the best path we found __so far__.  \n",
    "\n",
    "Edges must be non-negative weight values.\n"
   ]
  },
  {
   "cell_type": "code",
   "execution_count": 5,
   "metadata": {
    "graffitiCellId": "id_zx9fvl9"
   },
   "outputs": [
    {
     "name": "stdout",
     "output_type": "stream",
     "text": [
      "Shortest Distance from U to Y is 14\n"
     ]
    }
   ],
   "source": [
    "import math\n",
    "\n",
    "\"\"\"\n",
    "math.inf is useful as an initial value in optimisation problems, because it works correctly with min, \n",
    "eg. min(5, math.inf) == 5. \n",
    "\n",
    "For example, in shortest path algorithms, you can set unknown distances to math.inf without needing \n",
    "to special case None or assume an upper bound 9999999. \n",
    "\n",
    "Similarly, you can use -math.inf as a starting value for maximisation problems.\n",
    "\"\"\"\n",
    "\n",
    "def dijkstra(start_node, end_node):\n",
    "    distance_dict = {node: math.inf for node in graph.nodes}\n",
    "    shortest_path_to_node = {}\n",
    "\n",
    "    distance_dict[start_node] = 0\n",
    "    while distance_dict:\n",
    "        # Pop the shorest path \n",
    "        current_node, node_distance = sorted(distance_dict.items(), key=lambda x: x[1])[0]\n",
    "        shortest_path_to_node[current_node] = distance_dict.pop(current_node)\n",
    "\n",
    "        for edge in current_node.edges:\n",
    "            if edge.node in distance_dict:\n",
    "                new_node_distance = node_distance + edge.distance\n",
    "                if distance_dict[edge.node] > new_node_distance:\n",
    "                    distance_dict[edge.node] = new_node_distance\n",
    "    \n",
    "    return shortest_path_to_node[end_node]\n",
    "\n",
    "\n",
    "print('Shortest Distance from {} to {} is {}'.format(node_u.value, node_y.value, dijkstra(node_u, node_y)))"
   ]
  },
  {
   "cell_type": "code",
   "execution_count": null,
   "metadata": {},
   "outputs": [],
   "source": []
  }
 ],
 "metadata": {
  "graffiti": {
   "firstAuthorId": "dev",
   "id": "id_xw4if85",
   "language": "EN"
  },
  "kernelspec": {
   "display_name": "Python 3",
   "language": "python",
   "name": "python3"
  },
  "language_info": {
   "codemirror_mode": {
    "name": "ipython",
    "version": 3
   },
   "file_extension": ".py",
   "mimetype": "text/x-python",
   "name": "python",
   "nbconvert_exporter": "python",
   "pygments_lexer": "ipython3",
   "version": "3.7.3"
  }
 },
 "nbformat": 4,
 "nbformat_minor": 2
}
