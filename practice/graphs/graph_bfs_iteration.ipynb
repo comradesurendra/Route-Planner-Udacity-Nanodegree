{
 "cells": [
  {
   "cell_type": "markdown",
   "metadata": {
    "graffitiCellId": "id_19cls48"
   },
   "source": [
    "# Graph Breadth First Search\n",
    "In this exercise, you'll see how to do a breadth first search on a graph. To start, let's create a graph class in Python.\n",
    "\n",
    "**Visualizing a BFS:** \n",
    "* https://www.cs.usfca.edu/~galles/visualization/BFS.html\n",
    "\n",
    "**BFS Algorithm in Python (two versions):**\n",
    "\n",
    "* https://www.codespeedy.com/breadth-first-search-algorithm-in-python/\n",
    "\n",
    "* https://www.geeksforgeeks.org/breadth-first-search-or-bfs-for-a-graph/\n",
    "\n",
    "This algorithm is implemented using a _queue data structure_. In this algorithm, the main focus is on the vertices of the graph. Select a starting node or vertex at first, mark the starting node or vertex as visited and store it in a queue. Then visit the vertices or nodes which are adjacent to the starting node, mark them as visited and store these vertices or nodes in a queue. Repeat this process until all the nodes or vertices are completely visited.\n",
    "\n",
    "---\n",
    "\n",
    "**Advantages of BFS**\n",
    "\n",
    "1. It can be useful in order to find whether the graph has connected components or not.\n",
    "2. It always finds or returns the shortest path if there is more than one path between two vertices.\n",
    "\n",
    " \n",
    "\n",
    "**Disadvantages of BFS**\n",
    "\n",
    "1. The execution time of this algorithm is _very slow_ because the time complexity of this algorithm is exponential.\n",
    "2. This algorithm is not useful when large graphs are used.\n"
   ]
  },
  {
   "cell_type": "code",
   "execution_count": 1,
   "metadata": {
    "graffitiCellId": "id_pmkelaq"
   },
   "outputs": [],
   "source": [
    "class GraphNode(object):\n",
    "    def __init__(self, val):\n",
    "        self.value = val\n",
    "        self.children = []\n",
    "        \n",
    "    def add_child(self,new_node):\n",
    "        self.children.append(new_node)\n",
    "    \n",
    "    def remove_child(self,del_node):\n",
    "        if del_node in self.children:\n",
    "            self.children.remove(del_node)\n",
    "\n",
    "class Graph(object):\n",
    "    def __init__(self,node_list):\n",
    "        self.nodes = node_list\n",
    "        \n",
    "    def add_edge(self,node1,node2):\n",
    "        if(node1 in self.nodes and node2 in self.nodes):\n",
    "            node1.add_child(node2)\n",
    "            node2.add_child(node1)\n",
    "            \n",
    "    def remove_edge(self,node1,node2):\n",
    "        if(node1 in self.nodes and node2 in self.nodes):\n",
    "            node1.remove_child(node2)\n",
    "            node2.remove_child(node1)"
   ]
  },
  {
   "cell_type": "markdown",
   "metadata": {
    "graffitiCellId": "id_dk66y5p"
   },
   "source": [
    "Now let's create the graph."
   ]
  },
  {
   "cell_type": "code",
   "execution_count": 2,
   "metadata": {
    "graffitiCellId": "id_4twme6x"
   },
   "outputs": [],
   "source": [
    "nodeG = GraphNode('G')\n",
    "nodeR = GraphNode('R')\n",
    "nodeA = GraphNode('A')\n",
    "nodeP = GraphNode('P')\n",
    "nodeH = GraphNode('H')\n",
    "nodeS = GraphNode('S')\n",
    "\n",
    "graph1 = Graph([nodeS,nodeH,nodeG,nodeP,nodeR,nodeA] ) \n",
    "graph1.add_edge(nodeG,nodeR)\n",
    "graph1.add_edge(nodeA,nodeR)\n",
    "graph1.add_edge(nodeA,nodeG)\n",
    "graph1.add_edge(nodeR,nodeP)\n",
    "graph1.add_edge(nodeH,nodeG)\n",
    "graph1.add_edge(nodeH,nodeP)\n",
    "graph1.add_edge(nodeS,nodeR)"
   ]
  },
  {
   "cell_type": "markdown",
   "metadata": {
    "graffitiCellId": "id_iplss81"
   },
   "source": [
    "## Implement BFS\n",
    "Using what you know about BFS for trees and DFS for graphs, let's do BFS for graphs. Implement the `bfs_search` to return the `GraphNode` with the value `search_value` starting at the `root_node`."
   ]
  },
  {
   "cell_type": "code",
   "execution_count": 3,
   "metadata": {
    "graffitiCellId": "id_1vk7aeh"
   },
   "outputs": [],
   "source": [
    "def bfs(graph, initial):\n",
    "    # works for dictionary\n",
    "    visited = []\n",
    "    queue = [initial]\n",
    "\n",
    "    while queue:\n",
    "        node = queue.pop(0)\n",
    "        if node not in visited:\n",
    "\n",
    "            visited.append(node)\n",
    "\n",
    "            if node not in graph:\n",
    "                print(\"Sorry, '{}' is not in graph\".format(node))\n",
    "                return None\n",
    "\n",
    "            neighbours = graph[node]\n",
    "\n",
    "            for neighbour in neighbours:\n",
    "                queue.append(neighbour)\n",
    "    return visited\n",
    "\n",
    "        "
   ]
  },
  {
   "cell_type": "code",
   "execution_count": 4,
   "metadata": {
    "graffitiCellId": "id_g7fi7m5"
   },
   "outputs": [],
   "source": [
    "def bfs_search(root_node, search_value):\n",
    "    visited = []\n",
    "    queue = [root_node]\n",
    "    \n",
    "    while len(queue) > 0:\n",
    "        current_node = queue.pop(0)\n",
    "        queue.append(current_node)\n",
    "\n",
    "        if current_node.value == search_value:\n",
    "            return current_node\n",
    "\n",
    "        for child in current_node.children:\n",
    "            if child not in visited:\n",
    "                queue.append(child)"
   ]
  },
  {
   "cell_type": "markdown",
   "metadata": {
    "graffitiCellId": "id_ej37296"
   },
   "source": [
    "### Tests"
   ]
  },
  {
   "cell_type": "code",
   "execution_count": 5,
   "metadata": {
    "graffitiCellId": "id_ajsx9hw"
   },
   "outputs": [
    {
     "name": "stdout",
     "output_type": "stream",
     "text": [
      "<__main__.GraphNode object at 0x7faafc55bf98>\n",
      "<__main__.GraphNode object at 0x7faafc560080>\n",
      "<__main__.GraphNode object at 0x7faafc55bf28>\n",
      "\n",
      "Graph Node Parent Value = R\n",
      "Children (connections):\n",
      "G A P S  \n"
     ]
    }
   ],
   "source": [
    "assert nodeA == bfs_search(nodeS, 'A')\n",
    "assert nodeS == bfs_search(nodeP, 'S')\n",
    "assert nodeR == bfs_search(nodeH, 'R')\n",
    "\n",
    "print( bfs_search(nodeS, 'A') )\n",
    "print( bfs_search(nodeP, 'S') )\n",
    "print( bfs_search(nodeH, 'R') )\n",
    "# this hangs up if passed a search value that doesn't exist in graph\n",
    "#print( bfs_search(nodeH, 'I') )\n",
    "\n",
    "graph_node = bfs_search(nodeH, 'R')\n",
    "print(\"\\nGraph Node Parent Value =\", graph_node.value)\n",
    "print(\"Children (connections):\")\n",
    "for child in graph_node.children:\n",
    "    print(child.value, end=' ')\n",
    "print(\" \")"
   ]
  },
  {
   "cell_type": "code",
   "execution_count": 6,
   "metadata": {
    "graffitiCellId": "id_siu1frl"
   },
   "outputs": [
    {
     "name": "stdout",
     "output_type": "stream",
     "text": [
      "\n",
      "Graph built with a dictionary:\n",
      "Sorry, 'K' is not in graph\n",
      "None\n",
      "['E', 'A', 'B', 'D', 'C', 'F', 'G']\n"
     ]
    }
   ],
   "source": [
    "graph = {'A': ['B', 'C', 'E'],\n",
    "         'B': ['A','D', 'E'],\n",
    "         'C': ['A', 'F', 'G'],\n",
    "         'D': ['B'],\n",
    "         'E': ['A', 'B','D'],\n",
    "         'F': ['C'],\n",
    "         'G': ['C']}\n",
    "\n",
    "print(\"\\nGraph built with a dictionary:\")\n",
    "print( bfs(graph, 'K') )\n",
    "print( bfs(graph, 'E') )"
   ]
  },
  {
   "cell_type": "code",
   "execution_count": null,
   "metadata": {
    "graffitiCellId": "id_kloxwoy"
   },
   "outputs": [],
   "source": []
  }
 ],
 "metadata": {
  "graffiti": {
   "firstAuthorId": "dev",
   "id": "id_kq4h66c",
   "language": "EN"
  },
  "kernelspec": {
   "display_name": "Python 3",
   "language": "python",
   "name": "python3"
  },
  "language_info": {
   "codemirror_mode": {
    "name": "ipython",
    "version": 3
   },
   "file_extension": ".py",
   "mimetype": "text/x-python",
   "name": "python",
   "nbconvert_exporter": "python",
   "pygments_lexer": "ipython3",
   "version": "3.7.3"
  }
 },
 "nbformat": 4,
 "nbformat_minor": 2
}
