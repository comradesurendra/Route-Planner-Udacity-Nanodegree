{
 "cells": [
  {
   "cell_type": "markdown",
   "metadata": {
    "graffitiCellId": "id_afkw8pd"
   },
   "source": [
    "# Knapsack Problem\n",
    "Now that you saw the dynamic programming solution for the knapsack problem, it's time to implement it. Implement the function `max_value` to return the maximum value given the items (`items`) and the maximum weight of the knapsack (`knapsack_max_weight`). The `items` variable is the type `Item`, which is a [named tuple](https://docs.python.org/3/library/collections.html#collections.namedtuple)."
   ]
  },
  {
   "cell_type": "code",
   "execution_count": 1,
   "metadata": {
    "graffitiCellId": "id_p48fhwc"
   },
   "outputs": [
    {
     "name": "stdout",
     "output_type": "stream",
     "text": [
      "220\n",
      "14\n",
      "13\n"
     ]
    }
   ],
   "source": [
    "import collections\n",
    "\n",
    "Item = collections.namedtuple('Item', ['weight', 'value'])\n",
    "\n",
    "\n",
    "def max_value(knapsack_max_weight, items):\n",
    "    \"\"\"\n",
    "    Get the maximum value of the knapsack.\n",
    "    \"\"\"\n",
    "    pass\n",
    "\n",
    "# ----------------------------------------------------------------------------------\n",
    "# A naive recursive implementation of 0-1 Knapsack Problem \n",
    "# Returns the maximum value that can be put in a knapsack of capacity W \n",
    "# https://tutorialspoint.dev/algorithm/dynamic-programming-algorithms/knapsack-problem\n",
    "def knapSack(maxWeight, weight, val, n): \n",
    "  \n",
    "    # Base Case \n",
    "    if n == 0 or maxWeight == 0 : \n",
    "        return 0\n",
    "  \n",
    "    # If weight of the nth item is more than Knapsack of capacity \n",
    "    # W, then this item cannot be included in the optimal solution \n",
    "    if (weight[n-1] > maxWeight): \n",
    "        return knapSack(maxWeight, weight, val , n-1) \n",
    "  \n",
    "    # return the maximum of two cases: \n",
    "    # (1) nth item included \n",
    "    # (2) not included \n",
    "    else: \n",
    "        return max(val[n-1] + knapSack(maxWeight - weight[n-1], weight , val , n-1), \n",
    "                   knapSack(maxWeight, weight , val , n-1)) \n",
    "# ----------------------------------------------------------------------------------\n",
    "\n",
    "\n",
    "# To test above function \n",
    "values = [60, 100, 120] \n",
    "weights = [10, 20, 30] \n",
    "maxWeight = 50\n",
    "n = len(values) \n",
    "print( knapSack(maxWeight , weights , values , n) )\n",
    "\n",
    "values = [7,8,6]\n",
    "weights =  [10,9,5] \n",
    "maxWeight = 15\n",
    "n = len(values)\n",
    "print( knapSack(maxWeight , weights , values , n) )\n",
    "\n",
    "values = [2,10,7,3,1,12]\n",
    "weights =  [10,29,5,5,5,24] \n",
    "maxWeight = 25\n",
    "n = len(values)\n",
    "print( knapSack(maxWeight , weights , values , n) )\n",
    "\n",
    "# test items below are (weight, value)\n",
    "tests = [\n",
    "    {\n",
    "        'correct_output': 14,\n",
    "        'input':\n",
    "            {\n",
    "                'knapsack_max_weight': 15,\n",
    "                'items': [Item(10, 7), Item(9, 8), Item(5, 6)]}},\n",
    "    {\n",
    "        'correct_output': 13,\n",
    "        'input':\n",
    "            {\n",
    "                'knapsack_max_weight': 25,\n",
    "                'items': [Item(10, 2), Item(29, 10), Item(5, 7), Item(5, 3), Item(5, 1), Item(24, 12)]}}]\n",
    "#for test in tests:\n",
    "#    assert test['correct_output'] == max_value(**test['input'])"
   ]
  },
  {
   "cell_type": "code",
   "execution_count": 2,
   "metadata": {
    "graffitiCellId": "id_vljhmf7"
   },
   "outputs": [],
   "source": [
    "# Udacity Solution\n",
    "def max_value(knapsack_max_weight, items):\n",
    "    lookup_table = [0] * (knapsack_max_weight + 1)\n",
    "\n",
    "    for item in items:\n",
    "        for capacity in reversed(range(knapsack_max_weight + 1)):\n",
    "            if item.weight <= capacity:\n",
    "                lookup_table[capacity] = max(lookup_table[capacity], lookup_table[capacity - item.weight] + item.value)\n",
    "\n",
    "    return lookup_table[-1]"
   ]
  },
  {
   "cell_type": "code",
   "execution_count": 3,
   "metadata": {
    "graffitiCellId": "id_fo1qmjf"
   },
   "outputs": [
    {
     "name": "stdout",
     "output_type": "stream",
     "text": [
      "220\n",
      "14\n",
      "13\n"
     ]
    }
   ],
   "source": [
    "# A Dynamic Programming based Python Program for 0-1 Knapsack problem \n",
    "# Returns the maximum value that can be put in a knapsack of capacity W \n",
    "def knapSack(W, wt, val, n): \n",
    "    K = [[0 for x in range(W+1)] for x in range(n+1)] \n",
    "  \n",
    "    # Build table K[][] in bottom up manner \n",
    "    for i in range(n+1): \n",
    "        for w in range(W+1): \n",
    "            if i==0 or w==0: \n",
    "                K[i][w] = 0\n",
    "            elif wt[i-1] <= w: \n",
    "                K[i][w] = max(val[i-1] + K[i-1][w-wt[i-1]],  K[i-1][w]) \n",
    "            else: \n",
    "                K[i][w] = K[i-1][w] \n",
    "  \n",
    "    return K[n][W] \n",
    "  \n",
    "# Driver program to test above function \n",
    "values = [60, 100, 120] \n",
    "weights = [10, 20, 30] \n",
    "maxWeight = 50\n",
    "n = len(values) \n",
    "print( knapSack(maxWeight , weights , values , n) )\n",
    "\n",
    "values = [7,8,6]\n",
    "weights =  [10,9,5] \n",
    "maxWeight = 15\n",
    "n = len(values)\n",
    "print( knapSack(maxWeight , weights , values , n) )\n",
    "\n",
    "values = [2,10,7,3,1,12]\n",
    "weights =  [10,29,5,5,5,24] \n",
    "maxWeight = 25\n",
    "n = len(values)\n",
    "print( knapSack(maxWeight , weights , values , n) )\n"
   ]
  },
  {
   "cell_type": "code",
   "execution_count": null,
   "metadata": {
    "graffitiCellId": "id_j1s8dnu"
   },
   "outputs": [],
   "source": []
  }
 ],
 "metadata": {
  "graffiti": {
   "firstAuthorId": "dev",
   "id": "id_c8cwdgc",
   "language": "EN"
  },
  "kernelspec": {
   "display_name": "Python 3",
   "language": "python",
   "name": "python3"
  },
  "language_info": {
   "codemirror_mode": {
    "name": "ipython",
    "version": 3
   },
   "file_extension": ".py",
   "mimetype": "text/x-python",
   "name": "python",
   "nbconvert_exporter": "python",
   "pygments_lexer": "ipython3",
   "version": "3.7.3"
  }
 },
 "nbformat": 4,
 "nbformat_minor": 2
}
