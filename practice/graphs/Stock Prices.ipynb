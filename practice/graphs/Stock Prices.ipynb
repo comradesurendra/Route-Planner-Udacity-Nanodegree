{
 "cells": [
  {
   "cell_type": "markdown",
   "metadata": {
    "graffitiCellId": "id_pv982ru"
   },
   "source": [
    "# Stock Prices"
   ]
  },
  {
   "cell_type": "markdown",
   "metadata": {
    "collapsed": true,
    "graffitiCellId": "id_qto2uz2"
   },
   "source": [
    "You are given access to yesterday's stock prices for a single stock. The data is in the form of an array with the stock price in 30 minute intervals from 9:30 a.m EST opening to 4:00 p.m EST closing time. With this data, write a function that returns the maximum profit obtainable. You will need to buy before you can sell.\n",
    "\n",
    "For example, suppose you have the following prices:\n",
    "\n",
    "`prices = [3, 4, 7, 8, 6]`\n",
    "\n",
    ">Note: This is a shortened array, just for the sake of example—a full set of prices for the day would have 13 elements (one price for each 30 minute interval betwen 9:30 and 4:00), as seen in the test cases further down in this notebook.\n",
    "\n",
    "In order to get the maximum profit in this example, you would want to buy at a price of 3 and sell at a price of 8 to yield a maximum profit of 5. **In other words, you are looking for the greatest possible difference between two numbers in the array.**\n",
    "\n",
    "Fill out the function below and run it against the test cases. Take into consideration the time complexity of your solution. "
   ]
  },
  {
   "cell_type": "code",
   "execution_count": 10,
   "metadata": {
    "graffitiCellId": "id_z7ws71z"
   },
   "outputs": [
    {
     "name": "stdout",
     "output_type": "stream",
     "text": [
      "(2, 78)\n",
      "76\n",
      "(1, 67)\n",
      "66\n"
     ]
    }
   ],
   "source": [
    "def max_returns(prices):\n",
    "    \"\"\"\n",
    "    Calculate maxiumum possible return\n",
    "    \n",
    "    Args:\n",
    "       prices(array): array of prices\n",
    "    Returns:\n",
    "       int: The maximum profit possible\n",
    "    \"\"\"\n",
    "    min_max = find_min_max(prices)\n",
    "    print(min_max)\n",
    "    return min_max[1] - min_max[0]\n",
    "\n",
    "\n",
    "# --------------------------------------------------------------------------\n",
    "# look for smallest and largest integer from a list of unsorted integers\n",
    "def find_min_max(input_list):\n",
    "    min = 0\n",
    "    max = 0\n",
    "\n",
    "    if len(input_list) == 0:\n",
    "        return (False, False)\n",
    "    if len(input_list) == 1:\n",
    "        min = input_list[0]\n",
    "        max = input_list[0]\n",
    "        return (min, max)\n",
    "\n",
    "    # initialize min and max with first two elements\n",
    "    if input_list[0] < input_list[1]:\n",
    "        min = input_list[0]\n",
    "        max = input_list[1]\n",
    "    else:\n",
    "        min = input_list[1]\n",
    "        max = input_list[0]\n",
    "    # walk the rest of the list and update min/max as needed\n",
    "    # could use enumerate but value is not needed\n",
    "    # plus the index begins at zero anyway\n",
    "    # and we need to skip the first two elements\n",
    "    for indx in range(len(input_list[2:])+2):\n",
    "        if input_list[indx] > max:\n",
    "            max = input_list[indx]\n",
    "        elif input_list[indx] < min:\n",
    "            min = input_list[indx]\n",
    "        indx += 1\n",
    "    return (min, max)\n",
    "\n",
    "prices = [2, 2, 7, 9, 9, 12, 18, 23, 34, 37, 45, 54, 78]\n",
    "print(max_returns(prices))\n",
    "\n",
    "prices = [54, 18, 37, 9, 11, 48, 23, 1, 7, 34, 2, 45, 67]\n",
    "print(max_returns(prices))"
   ]
  },
  {
   "cell_type": "markdown",
   "metadata": {
    "graffitiCellId": "id_uc722im"
   },
   "source": [
    "<span class=\"graffiti-highlight graffiti-id_uc722im-id_o4cterg\"><i></i><button>Hide Solution</button></span>"
   ]
  },
  {
   "cell_type": "code",
   "execution_count": 1,
   "metadata": {
    "graffitiCellId": "id_o4cterg"
   },
   "outputs": [],
   "source": [
    "# Solution\n",
    "\n",
    "def max_returns(arr):\n",
    "    \"\"\"\n",
    "    The idea is to pick two dates:\n",
    "        1. buy date\n",
    "        2. sell date\n",
    "    We will keep track of our max profit while iterating over the list\n",
    "    At each step we will make the greedy choice by choosing prices such that our profit is maximum \n",
    "    \"\"\"\n",
    "    min_price_index = 0\n",
    "    max_price_index = 1\n",
    "    current_min_price_index = 0\n",
    "    \n",
    "    if len(arr) < 2:\n",
    "        return\n",
    "    \n",
    "    for index in range(1, len(arr)):\n",
    "        # current minimum price\n",
    "        if arr[index] < arr[current_min_price_index]:\n",
    "            current_min_price_index = index\n",
    "            \n",
    "        # current max profit\n",
    "        if arr[max_price_index] - arr[min_price_index] < arr[index] - arr[current_min_price_index]:\n",
    "            max_price_index = index\n",
    "            min_price_index = current_min_price_index\n",
    "    max_profit = arr[max_price_index] - arr[min_price_index]\n",
    "    return max_profit"
   ]
  },
  {
   "cell_type": "code",
   "execution_count": 2,
   "metadata": {
    "graffitiCellId": "id_plirn7n"
   },
   "outputs": [],
   "source": [
    "# Test Cases\n",
    "def test_function(test_case):\n",
    "    prices = test_case[0]\n",
    "    solution = test_case[1]\n",
    "    output = max_returns(prices)\n",
    "    if output == solution:\n",
    "        print(\"Pass\")\n",
    "    else:\n",
    "        print(\"Fail\")"
   ]
  },
  {
   "cell_type": "code",
   "execution_count": 3,
   "metadata": {},
   "outputs": [
    {
     "name": "stdout",
     "output_type": "stream",
     "text": [
      "Pass\n"
     ]
    }
   ],
   "source": [
    "prices = [2, 2, 7, 9, 9, 12, 18, 23, 34, 37, 45, 54, 78]\n",
    "solution = 76\n",
    "test_case = [prices, solution]\n",
    "test_function(test_case)"
   ]
  },
  {
   "cell_type": "code",
   "execution_count": 4,
   "metadata": {},
   "outputs": [
    {
     "name": "stdout",
     "output_type": "stream",
     "text": [
      "Pass\n"
     ]
    }
   ],
   "source": [
    "prices = [54, 18, 37, 9, 11, 48, 23, 1, 7, 34, 2, 45, 67]\n",
    "solution = 66\n",
    "test_case = [prices, solution]\n",
    "test_function(test_case)"
   ]
  },
  {
   "cell_type": "code",
   "execution_count": 5,
   "metadata": {},
   "outputs": [
    {
     "name": "stdout",
     "output_type": "stream",
     "text": [
      "Pass\n"
     ]
    }
   ],
   "source": [
    "prices = [78, 54, 45, 37, 34, 23, 18, 12, 9, 9, 7, 2, 2]\n",
    "solution = 0\n",
    "test_case = [prices, solution]\n",
    "test_function(test_case)"
   ]
  },
  {
   "cell_type": "code",
   "execution_count": null,
   "metadata": {
    "graffitiCellId": "id_a0imxcc"
   },
   "outputs": [],
   "source": []
  }
 ],
 "metadata": {
  "graffiti": {
   "firstAuthorId": "10694620118",
   "id": "id_43ea6fg",
   "language": "EN"
  },
  "kernelspec": {
   "display_name": "Python 3",
   "language": "python",
   "name": "python3"
  },
  "language_info": {
   "codemirror_mode": {
    "name": "ipython",
    "version": 3
   },
   "file_extension": ".py",
   "mimetype": "text/x-python",
   "name": "python",
   "nbconvert_exporter": "python",
   "pygments_lexer": "ipython3",
   "version": "3.6.3"
  },
  "widgets": {
   "state": {},
   "version": "1.1.2"
  }
 },
 "nbformat": 4,
 "nbformat_minor": 2
}
