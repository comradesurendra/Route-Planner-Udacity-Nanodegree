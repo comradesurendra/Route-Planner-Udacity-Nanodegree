{
 "cells": [
  {
   "cell_type": "markdown",
   "metadata": {},
   "source": [
    "## Problem Statement\n",
    "\n",
    "Previously, we considered the following problem:\n",
    "\n",
    ">Given a positive integer `n`, write a function, `print_integers`, that uses recursion to print all numbers from `n` to `1`. \n",
    ">\n",
    ">For example, if `n` is `4`, the function shuld print `4 3 2 1`. \n",
    "\n",
    "Our solution was:"
   ]
  },
  {
   "cell_type": "code",
   "execution_count": 1,
   "metadata": {},
   "outputs": [],
   "source": [
    "def print_integers(n):\n",
    "    if n <= 0:\n",
    "        return\n",
    "    print(n)\n",
    "    print_integers(n - 1)"
   ]
  },
  {
   "cell_type": "code",
   "execution_count": 2,
   "metadata": {},
   "outputs": [
    {
     "name": "stdout",
     "output_type": "stream",
     "text": [
      "5\n",
      "4\n",
      "3\n",
      "2\n",
      "1\n"
     ]
    }
   ],
   "source": [
    "print_integers(5)"
   ]
  },
  {
   "cell_type": "markdown",
   "metadata": {},
   "source": [
    "We have already discussed that every time a function is called, a new *frame* is created in memory, which is then pushed onto the *call stack*. For the current function, `print_integers`, the call stack with all the frames would look like this:\n",
    "\n",
    "<img src='./recurrence-relation-resources/01.png'>"
   ]
  },
  {
   "cell_type": "markdown",
   "metadata": {},
   "source": [
    "Note that in Python, the stack is displayed in an \"upside down\" manner. This can be seen in the illustration above—the last frame (i.e. the frame with `n = 0`) lies at the top of the stack (but is displayed last here) and the first frame (i.e., the frame with `n = 5`) lies at the bottom of the stack (but is displayed first).\n",
    "\n",
    "But don't let this confuse you. The frame with `n = 0` is indeed the top of the stack, so it will be discarded first. And the frame with `n = 5` is indeed at the bottom of the stack, so it will be discarded last."
   ]
  },
  {
   "cell_type": "markdown",
   "metadata": {},
   "source": [
    "We define time complexity as a measure of amount of time it takes to run an algorithm. Similarly, the time complexity of our function `print_integers(5)`, would indicate the amount of time taken to exceute our function `print_integers`. But notice how when we call `print_integers()` with a particular value of `n`, it recursively calls itself multiple times. \n",
    "\n",
    "In other words, when we call `print_integers(n)`, it does operations (like checking for base case, printing number) and then calls `print_integers(n - 1)`.\n",
    "\n",
    "Therefore, the overall time taken by `print_integers(n)` to execute would be equal to the time taken to execute its own simple operations and the time taken to execute `print_integers(n - 1)`."
   ]
  },
  {
   "cell_type": "markdown",
   "metadata": {},
   "source": [
    "Let the time taken to execute the function `print_integers(n)` be $T(n)$. And let the time taken to exceute the function's own simple operations be represented by some constant, $k$.\n",
    "\n",
    "In that case, we can say that\n",
    "\n",
    "$$T(n) = T(n - 1) + k$$\n",
    "\n",
    "where $T(n - 1)$ represents the time taken to execute the function `print_integers(n - 1)`.\n",
    "\n",
    "Similarly, we can represent $T(n - 1)$ as\n",
    "\n",
    "$$T(n - 1) = T(n - 2) + k$$\n",
    "\n",
    "We can see that a pattern is being formed here:\n",
    "\n",
    "1. $T(n)\\ \\ \\ \\ \\ \\ \\      = T(n - 1) + k$\n",
    "2. $T(n - 1) = T(n - 2) + k$\n",
    "3. $T(n - 2) = T(n - 3) + k$\n",
    "4. $T(n - 3) = T(n - 4) + k$\n",
    ".<br>\n",
    ".<br>\n",
    ".<br>\n",
    ".<br>\n",
    ".<br>\n",
    ".<br>\n",
    "5. $T(2) = T(1) + k$\n",
    "6. $T(1) = T(0) + k$\n",
    "7. $T(0) = k1$\n",
    "\n",
    "Notice that when `n = 0` we are only checking the base case and then returning. This time can be represented by some other constant, $k1$.\n",
    "\n",
    "If we add the respective left-hand sides and right-hand sides of all these equations, we get:\n",
    "\n",
    "$$T(n) = nk + k1$$\n",
    "\n",
    "We know that while calculating time complexity, we tend to ignore these added constants because for large input sizes on the order of $10^5$, these constants become irrelevant.\n",
    "\n",
    "Thus, we can simplify the above to:\n",
    "\n",
    "$$T(n) = nk $$\n",
    "\n",
    "We can see that the time complexity of our function `print_integers(n)` is a linear function of $n$. Hence, we can say that the time complexity of the function is $O(n)$.\n",
    "\n"
   ]
  },
  {
   "cell_type": "markdown",
   "metadata": {},
   "source": [
    "## Binary Search\n",
    "\n",
    "Let's look at the time complexity of one more recursive algorithm.\n",
    "\n",
    ">Note: The binary search function can also be written iteratively. But for the sake of understanding recurrence relations, we will have a look at the recursive algorithm.\n",
    "\n",
    "Here's the binary search algorithm, coded using recursion:"
   ]
  },
  {
   "cell_type": "code",
   "execution_count": 4,
   "metadata": {},
   "outputs": [],
   "source": [
    "def binary_search(arr, target):\n",
    "    return binary_search_func(arr, 0, len(arr) - 1, target)\n",
    "\n",
    "def binary_search_func(arr, start_index, end_index, target):\n",
    "    if start_index > end_index:\n",
    "        return -1\n",
    "    \n",
    "    mid_index = (start_index + end_index)//2\n",
    "    \n",
    "    if arr[mid_index] == target:\n",
    "        return mid_index\n",
    "    elif arr[mid_index] > target:\n",
    "        return binary_search_func(arr, start_index, mid_index - 1, target)\n",
    "    else:\n",
    "        return binary_search_func(arr, mid_index + 1, end_index, target)\n",
    "        "
   ]
  },
  {
   "cell_type": "code",
   "execution_count": 28,
   "metadata": {},
   "outputs": [
    {
     "name": "stdout",
     "output_type": "stream",
     "text": [
      "5\n"
     ]
    }
   ],
   "source": [
    "arr = [0, 1, 2, 3, 4, 5, 6, 7, 8]\n",
    "print(binary_search(arr, 5))"
   ]
  },
  {
   "cell_type": "markdown",
   "metadata": {},
   "source": [
    "Let's try to analyze the time complexity of the recursive algorithm for binary search by finding out the recurrence relation."
   ]
  },
  {
   "cell_type": "markdown",
   "metadata": {},
   "source": [
    "Our `binary_search()` function calls the `binary_search_func()` function. So the time complexity of the function is entirely dependent on the time complexity of the `binary_search_func()`. \n",
    "\n",
    "The input here is an array, so our time complexity will be determined in terms of the size of the array. \n",
    "\n",
    "Like we did earlier, let's say the time complexity of `binary_search_func()` is a function of the input size, `n`. In other words, the time complexity is $T(n)$.\n",
    "\n",
    "Also keep in mind that we are usually concerned with the worst-case time complexity, and that is what we will calculate here. In the worst case, the `target` value will not be present in the array. \n",
    "\n",
    "In the `binary_search_func()` function, we first check for the base case. If the base case does not return `True`, we calculate the `mid_index` and then compare the element at this `mid_index` with the `target` values. All the operations are independent of the size of the array. Therefore, we can consider all these independent operations as taking a combined time, $k$.\n",
    "\n",
    "Apart from these constant time operations, we do just one other task. We either make a call on the left-half of the array, or on the right half of the array. By doing so, we are reducing the input size by $n/2$.\n",
    "\n",
    ">Note: Remember that we usually consider large input sizes while calculating time complexity; there is no significant difference between $10^5$ and ($10^5 + 1$).\n",
    "\n",
    "Thus, our new function call is only called with half the input size. \n",
    "We said that $T(n)$ was the time complexity of our original function. The time complexity of the function when called with half the input size will be $T(n/2)$.\n",
    "\n",
    "Therefore:\n",
    "\n",
    "$$T(n) = T(n/2) + k$$\n",
    "\n",
    "Similarly, in the next step, the time complexity of the function called with half the input size would be:\n",
    "\n",
    "$$T(n/2) = T(n/4) + k$$\n",
    "\n",
    "We can now form similar equations as we did for the last problem:\n",
    "\n",
    "1. $T(n)\\ \\ \\  = T(n/2) + k$\n",
    "2. $T(n/2) = T(n/4) + k$\n",
    "3. $T(n/4) = T(n/8) + k$\n",
    "4. $T(n/8) = T(n/16) + k$\n",
    ".<br>\n",
    ".<br>\n",
    ".<br>\n",
    ".<br>\n",
    ".<br>\n",
    ".<br>\n",
    "5. $T(4) = T(2) + k$\n",
    "6. $T(2) = T(1) + k$\n",
    "7. $T(1) = T(0) + k1$ $^{(1)}$         \n",
    "8. $T(0) = k1$\n",
    "\n",
    "$^{(1)}$ If we have only one element, we go to 0 elements next\n",
    "\n",
    "From our binary search section, we know that it takes $log(n)$ steps to go from $T(n)$ to $1$. Therefore, when we add the corresponding left-hand sides and right-hand sides, we can safely say that:\n",
    "\n",
    "$$T(n) = log(n) * k + k1$$\n",
    "\n",
    "As always, we can ignore the constant. Therefore:\n",
    "\n",
    "$$T(n) = log(n) * k $$\n",
    "\n",
    "Thus we see that the time complexity of the function is a logarithmic function of the input, $n$. Hence, the time complexity of the recursive algorithm for binary search is $log(n)$.\n",
    "\n",
    "\n",
    "\n",
    "\n"
   ]
  }
 ],
 "metadata": {
  "kernelspec": {
   "display_name": "Python 3",
   "language": "python",
   "name": "python3"
  },
  "language_info": {
   "codemirror_mode": {
    "name": "ipython",
    "version": 3
   },
   "file_extension": ".py",
   "mimetype": "text/x-python",
   "name": "python",
   "nbconvert_exporter": "python",
   "pygments_lexer": "ipython3",
   "version": "3.6.3"
  }
 },
 "nbformat": 4,
 "nbformat_minor": 2
}
