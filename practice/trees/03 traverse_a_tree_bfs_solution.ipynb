{
 "cells": [
  {
   "cell_type": "markdown",
   "metadata": {},
   "source": [
    "## Traverse a tree (breadth first search)\n",
    "\n",
    "We'll now practice implementing breadth first search (BFS).  You'll see breadth first search again when we learn about graph data structures, so BFS is very useful to know."
   ]
  },
  {
   "cell_type": "markdown",
   "metadata": {},
   "source": [
    "## Creating a sample tree\n",
    "\n",
    "We'll create a tree that looks like the following: \n"
   ]
  },
  {
   "cell_type": "markdown",
   "metadata": {},
   "source": [
    "![tree image](tree-simple-example.png \"Tree\")"
   ]
  },
  {
   "cell_type": "code",
   "execution_count": 1,
   "metadata": {},
   "outputs": [],
   "source": [
    "# this code makes the tree that we'll traverse\n",
    "\n",
    "class Node(object):\n",
    "        \n",
    "    def __init__(self,value = None):\n",
    "        self.value = value\n",
    "        self.left = None\n",
    "        self.right = None\n",
    "        \n",
    "    def set_value(self,value):\n",
    "        self.value = value\n",
    "        \n",
    "    def get_value(self):\n",
    "        return self.value\n",
    "        \n",
    "    def set_left_child(self,left):\n",
    "        self.left = left\n",
    "        \n",
    "    def set_right_child(self, right):\n",
    "        self.right = right\n",
    "        \n",
    "    def get_left_child(self):\n",
    "        return self.left\n",
    "    \n",
    "    def get_right_child(self):\n",
    "        return self.right\n",
    "\n",
    "    def has_left_child(self):\n",
    "        return self.left != None\n",
    "    \n",
    "    def has_right_child(self):\n",
    "        return self.right != None\n",
    "    \n",
    "    # define __repr_ to decide what a print statement displays for a Node object\n",
    "    def __repr__(self):\n",
    "        return f\"Node({self.get_value()})\"\n",
    "    \n",
    "    def __str__(self):\n",
    "        return f\"Node({self.get_value()})\"\n",
    "    \n",
    "    \n",
    "class Tree():\n",
    "    def __init__(self, value=None):\n",
    "        self.root = Node(value)\n",
    "        \n",
    "    def get_root(self):\n",
    "        return self.root\n",
    "\n",
    "tree = Tree(\"apple\")\n",
    "tree.get_root().set_left_child(Node(\"banana\"))\n",
    "tree.get_root().set_right_child(Node(\"cherry\"))\n",
    "tree.get_root().get_left_child().set_left_child(Node(\"dates\"))"
   ]
  },
  {
   "cell_type": "markdown",
   "metadata": {},
   "source": [
    "## Breadth first search\n",
    "Breadth first traversal of the tree would visit the nodes in this order:  \n",
    "\n",
    "![tree image](tree-simple-example.png \"Tree\")\n",
    "\n",
    "apple, banana, cherry, dates"
   ]
  },
  {
   "cell_type": "markdown",
   "metadata": {},
   "source": [
    "#### Think through the algorithm\n",
    "\n",
    "We are walking down the tree one level at a time. So we start with apple at the root, and next are banana and cherry, and next is dates.\n",
    "\n",
    "\n",
    "1) start at the root node  \n",
    "2) visit the root node's left child (banana), then right child (cherry)  \n",
    "3) visit the left and right children of (banana) and (cherry).\n",
    "\n",
    "## Queue\n",
    "\n",
    "Notice that we're waiting until we visit \"cherry\" before visiting \"dates\".  It's like they're waiting in line.  _We can use a queue to keep track of the order._"
   ]
  },
  {
   "cell_type": "markdown",
   "metadata": {},
   "source": [
    "## Define a queue class (double-ended queue)\n",
    "\n",
    "**Reference: https://docs.python.org/2/library/collections.html**"
   ]
  },
  {
   "cell_type": "code",
   "execution_count": 4,
   "metadata": {},
   "outputs": [
    {
     "name": "stdout",
     "output_type": "stream",
     "text": [
      "deque(['banana', 'apple'])\n"
     ]
    }
   ],
   "source": [
    "from collections import deque\n",
    "q = deque()\n",
    "q.appendleft\n",
    "q.pop\n",
    "q.appendleft(\"apple\")\n",
    "q.appendleft(\"banana\")\n",
    "print(q)"
   ]
  },
  {
   "cell_type": "code",
   "execution_count": 5,
   "metadata": {},
   "outputs": [
    {
     "data": {
      "text/plain": [
       "'apple'"
      ]
     },
     "execution_count": 5,
     "metadata": {},
     "output_type": "execute_result"
    }
   ],
   "source": [
    "q.pop()"
   ]
  },
  {
   "cell_type": "code",
   "execution_count": 6,
   "metadata": {},
   "outputs": [
    {
     "data": {
      "text/plain": [
       "1"
      ]
     },
     "execution_count": 6,
     "metadata": {},
     "output_type": "execute_result"
    }
   ],
   "source": [
    "len(q)"
   ]
  },
  {
   "cell_type": "code",
   "execution_count": 7,
   "metadata": {},
   "outputs": [],
   "source": [
    "from collections import deque\n",
    "class Queue():\n",
    "    def __init__(self):\n",
    "        self.q = deque()\n",
    "        \n",
    "    def enq(self,value):\n",
    "        # enqueue - new items prepended to the queue\n",
    "        self.q.appendleft(value)\n",
    "        \n",
    "    def deq(self):\n",
    "        # dequeue - oldest item removed from the queue\n",
    "        if len(self.q) > 0:\n",
    "            return self.q.pop()\n",
    "        else:\n",
    "            return None\n",
    "    \n",
    "    def __len__(self):\n",
    "        return len(self.q)\n",
    "    \n",
    "    def __repr__(self):\n",
    "        if len(self.q) > 0:\n",
    "            s = \"<enqueue here>\\n_________________\\n\" \n",
    "            s += \"\\n_________________\\n\".join([str(item) for item in self.q])\n",
    "            s += \"\\n_________________\\n<dequeue here>\"\n",
    "            return s\n",
    "        else:\n",
    "            return \"<queue is empty>\""
   ]
  },
  {
   "cell_type": "code",
   "execution_count": 8,
   "metadata": {},
   "outputs": [
    {
     "name": "stdout",
     "output_type": "stream",
     "text": [
      "apple\n",
      "<enqueue here>\n",
      "_________________\n",
      "cherry\n",
      "_________________\n",
      "banana\n",
      "_________________\n",
      "<dequeue here>\n"
     ]
    }
   ],
   "source": [
    "q = Queue()\n",
    "q.enq(\"apple\")\n",
    "q.enq(\"banana\")\n",
    "q.enq(\"cherry\")\n",
    "print(q.deq())\n",
    "print(q)"
   ]
  },
  {
   "cell_type": "markdown",
   "metadata": {},
   "source": [
    "## Walk through the steps with code\n",
    "\n",
    "We're going to translate what we're doing by hand into code, one step at a time.  This will help us check if our code is doing what we expect it to do.\n",
    "\n",
    "![tree image](tree-simple-example.png \"Tree\")"
   ]
  },
  {
   "cell_type": "code",
   "execution_count": 16,
   "metadata": {},
   "outputs": [
    {
     "name": "stdout",
     "output_type": "stream",
     "text": [
      "<enqueue here>\n",
      "_________________\n",
      "Node(apple)\n",
      "_________________\n",
      "<dequeue here>\n"
     ]
    }
   ],
   "source": [
    "visit_order = list()\n",
    "q = Queue()\n",
    "\n",
    "# start at the root node and add it to the queue\n",
    "node = tree.get_root()\n",
    "q.enq(node)\n",
    "print(q)"
   ]
  },
  {
   "cell_type": "code",
   "execution_count": 17,
   "metadata": {},
   "outputs": [
    {
     "name": "stdout",
     "output_type": "stream",
     "text": [
      "visit order: [Node(apple)]\n",
      "<enqueue here>\n",
      "_________________\n",
      "Node(cherry)\n",
      "_________________\n",
      "Node(banana)\n",
      "_________________\n",
      "<dequeue here>\n"
     ]
    }
   ],
   "source": [
    "# dequeue the next node in the queue. \n",
    "# \"visit\" that node\n",
    "# also add its children to the queue\n",
    "\n",
    "node = q.deq() # save the node\n",
    "visit_order.append(node)\n",
    "if node.has_left_child():\n",
    "    q.enq(node.get_left_child())\n",
    "if node.has_right_child():\n",
    "    q.enq(node.get_right_child())\n",
    "    \n",
    "print(f\"visit order: {visit_order}\")\n",
    "print(q)"
   ]
  },
  {
   "cell_type": "code",
   "execution_count": 18,
   "metadata": {},
   "outputs": [
    {
     "name": "stdout",
     "output_type": "stream",
     "text": [
      "visit order: [Node(apple), Node(banana)]\n",
      "<enqueue here>\n",
      "_________________\n",
      "Node(dates)\n",
      "_________________\n",
      "Node(cherry)\n",
      "_________________\n",
      "<dequeue here>\n"
     ]
    }
   ],
   "source": [
    "# dequeue the next node (banana)\n",
    "# visit it, and add its children (dates) to the queue \n",
    "\n",
    "node = q.deq()\n",
    "visit_order.append(node)\n",
    "if node.has_left_child():\n",
    "    q.enq(node.get_left_child())\n",
    "if node.has_right_child():\n",
    "    q.enq(node.get_right_child())\n",
    "    \n",
    "print(f\"visit order: {visit_order}\")\n",
    "print(q)"
   ]
  },
  {
   "cell_type": "code",
   "execution_count": 19,
   "metadata": {},
   "outputs": [
    {
     "name": "stdout",
     "output_type": "stream",
     "text": [
      "visit order: [Node(apple), Node(banana), Node(cherry)]\n",
      "<enqueue here>\n",
      "_________________\n",
      "Node(dates)\n",
      "_________________\n",
      "<dequeue here>\n"
     ]
    }
   ],
   "source": [
    "# dequeue the next node (cherry)\n",
    "# visit it, and add its children (there are None) to the queue \n",
    "\n",
    "node = q.deq()\n",
    "visit_order.append(node)\n",
    "if node.has_left_child():\n",
    "    q.enq(node.get_left_child())\n",
    "if node.has_right_child():\n",
    "    q.enq(node.get_right_child())\n",
    "    \n",
    "print(f\"visit order: {visit_order}\")\n",
    "print(q)"
   ]
  },
  {
   "cell_type": "code",
   "execution_count": 20,
   "metadata": {},
   "outputs": [
    {
     "name": "stdout",
     "output_type": "stream",
     "text": [
      "visit order: [Node(apple), Node(banana), Node(cherry), Node(dates)]\n",
      "<queue is empty>\n"
     ]
    }
   ],
   "source": [
    "# dequeue the next node (dates)\n",
    "# visit it, and add its children (there are None) to the queue \n",
    "\n",
    "node = q.deq()\n",
    "visit_order.append(node)\n",
    "if node.has_left_child():\n",
    "    q.enq(node.get_left_child())\n",
    "if node.has_right_child():\n",
    "    q.enq(node.get_right_child())\n",
    "    \n",
    "print(f\"visit order: {visit_order}\")\n",
    "print(q)"
   ]
  },
  {
   "cell_type": "markdown",
   "metadata": {},
   "source": [
    "## Task: write the breadth first search algorithm\n",
    "```\n",
    "queue    \n",
    "visit order    \n",
    "start at the root    \n",
    "add root to queue\n",
    "\n",
    "while queue is not empty    \n",
    "    dequeue the node        \n",
    "    visit that node        \n",
    "    add left child if it exists        \n",
    "    add right child if it exists        \n",
    "\n",
    "return the visit order\n",
    "```    "
   ]
  },
  {
   "cell_type": "code",
   "execution_count": 29,
   "metadata": {},
   "outputs": [],
   "source": [
    "# Solution\n",
    "\n",
    "def bfs(tree):\n",
    "    # create queue\n",
    "    q = Queue()\n",
    "    \n",
    "    # list to hold the visit order\n",
    "    visit_order = list()\n",
    "    \n",
    "    # start at the root node\n",
    "    node = tree.get_root()\n",
    "    \n",
    "    # add the root to the queue\n",
    "    q.enq(node)\n",
    "    \n",
    "    # iterate as long as queue is not empty\n",
    "    while(len(q) > 0):\n",
    "        # dequeue (pop) the node\n",
    "        node = q.deq()\n",
    "        # visit that node (store it in list)\n",
    "        visit_order.append(node)\n",
    "        # check for existence of children\n",
    "        if node.has_left_child():\n",
    "            q.enq(node.get_left_child())\n",
    "        if node.has_right_child():\n",
    "            q.enq(node.get_right_child())\n",
    "\n",
    "    return visit_order"
   ]
  },
  {
   "cell_type": "code",
   "execution_count": 30,
   "metadata": {},
   "outputs": [
    {
     "data": {
      "text/plain": [
       "[Node(apple), Node(banana), Node(cherry), Node(dates)]"
      ]
     },
     "execution_count": 30,
     "metadata": {},
     "output_type": "execute_result"
    }
   ],
   "source": [
    "# check solution: should be: apple, banana, cherry, dates\n",
    "bfs(tree)"
   ]
  },
  {
   "cell_type": "markdown",
   "metadata": {},
   "source": [
    "## Bonus Task: write a print function\n",
    "\n",
    "Define the print function for the Tree class.  Nodes on the same level are printed on the same line. \n",
    "\n",
    "For example, the tree we've been using would print out like this:\n",
    "```\n",
    "Node(apple)\n",
    "Node(banana) | Node(cherry)\n",
    "Node(dates) | <empty> | <empty> | <empty>\n",
    "<empty> | <empty>\n",
    "```\n",
    "We'll have `<empty>` be placeholders so that we can keep track of which node is a child or parent of the other nodes.\n",
    "\n",
    "**hint**: use a variable to keep track of which level each node is on.  For instance, the root node is on level 0, and its child nodes are on level 1."
   ]
  },
  {
   "cell_type": "code",
   "execution_count": 35,
   "metadata": {},
   "outputs": [],
   "source": [
    "# solution\n",
    "\n",
    "class Tree():\n",
    "    def __init__(self, value=None):\n",
    "        self.root = Node(value)\n",
    "        \n",
    "    def get_root(self):\n",
    "        return self.root\n",
    "    \n",
    "    def __repr__(self):\n",
    "        level = 0 # keep track of levels\n",
    "        q = Queue()\n",
    "        visit_order = list()\n",
    "        node = self.get_root()\n",
    "        \n",
    "        # store the node and the level\n",
    "        q.enq( (node, level) )\n",
    "        \n",
    "        while(len(q) > 0):\n",
    "            # pop the node and the level\n",
    "            node, level = q.deq()\n",
    "            if node == None:\n",
    "                # keep track of missing descendants\n",
    "                visit_order.append( (\"<empty>\", level))\n",
    "                continue\n",
    "            visit_order.append( (node, level) )\n",
    "            if node.has_left_child():\n",
    "                q.enq( (node.get_left_child(), level + 1 ))\n",
    "            else:\n",
    "                q.enq( (None, level + 1) )\n",
    "                \n",
    "            if node.has_right_child():\n",
    "                q.enq( (node.get_right_child(), level + 1 ))\n",
    "            else:\n",
    "                q.enq( (None, level + 1) )\n",
    "                \n",
    "        s = \"Tree\\n\"\n",
    "        previous_level = -1\n",
    "        for i in range(len(visit_order)):\n",
    "            node, level = visit_order[i]\n",
    "            if level == previous_level: # keep it on the same row\n",
    "                s += \" | \" + str(node) \n",
    "            else:\n",
    "                s += \"\\n\" + str(node)\n",
    "                previous_level = level\n",
    "\n",
    "        return s\n"
   ]
  },
  {
   "cell_type": "code",
   "execution_count": 36,
   "metadata": {},
   "outputs": [
    {
     "name": "stdout",
     "output_type": "stream",
     "text": [
      "Tree\n",
      "\n",
      "Node(apple)\n",
      "Node(banana) | Node(cherry)\n",
      "Node(dates) | <empty> | <empty> | <empty>\n",
      "<empty> | <empty>\n"
     ]
    }
   ],
   "source": [
    "# check solution\n",
    "tree = Tree(\"apple\")\n",
    "tree.get_root().set_left_child(Node(\"banana\"))\n",
    "tree.get_root().set_right_child(Node(\"cherry\"))\n",
    "tree.get_root().get_left_child().set_left_child(Node(\"dates\"))\n",
    "print(tree)"
   ]
  },
  {
   "cell_type": "code",
   "execution_count": null,
   "metadata": {},
   "outputs": [],
   "source": []
  }
 ],
 "metadata": {
  "kernelspec": {
   "display_name": "Python 3",
   "language": "python",
   "name": "python3"
  },
  "language_info": {
   "codemirror_mode": {
    "name": "ipython",
    "version": 3
   },
   "file_extension": ".py",
   "mimetype": "text/x-python",
   "name": "python",
   "nbconvert_exporter": "python",
   "pygments_lexer": "ipython3",
   "version": "3.7.3"
  }
 },
 "nbformat": 4,
 "nbformat_minor": 2
}
