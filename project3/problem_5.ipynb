{
 "cells": [
  {
   "cell_type": "markdown",
   "metadata": {},
   "source": [
    "# Building a Trie in Python\n",
    "\n",
    "Before we start let us reiterate the key components of a Trie or Prefix Tree. A trie is a tree-like data structure that stores a dynamic set of strings. Tries are commonly used to facilitate operations like predictive text or autocomplete features on mobile phones or web search.\n",
    "\n",
    "Before we move into the autocomplete function we need to create a working trie for storing strings.  We will create two classes:\n",
    "* A `Trie` class that contains the root node (empty string)\n",
    "* A `TrieNode` class that exposes the general functionality of the Trie, like inserting a word or finding the node which represents a prefix.\n",
    "\n",
    "Give it a try by implementing the `TrieNode` and `Trie` classes below!"
   ]
  },
  {
   "cell_type": "code",
   "execution_count": 1,
   "metadata": {},
   "outputs": [],
   "source": [
    "from collections import defaultdict\n",
    "class TrieNode:\n",
    "    def __init__(self, word = None):\n",
    "        ## Initialize this node in the Trie\n",
    "        self.children = defaultdict(TrieNode) #dict()\n",
    "        self.is_word = False\n",
    "        self.word = word\n",
    "\n",
    "    def insert(self, word):\n",
    "        ## Add a child node in this Trie\n",
    "        for char in word:\n",
    "            self = self.children[char]\n",
    "        self.is_word = True\n",
    "        self.word = word\n",
    "\n",
    "    def suffixes(self, suffix = ''):\n",
    "        ## Recursive function that collects the suffix for\n",
    "        ## all complete words below this point\n",
    "        result = []\n",
    "        node = self\n",
    "        for s in suffix:\n",
    "            if s in node.children:\n",
    "                node = node.children[s]\n",
    "            else:\n",
    "                return result\n",
    "        self.find_letters(node, suffix, result)\n",
    "        return result\n",
    "\n",
    "    def find_letters(self, node, letters, result):\n",
    "        \"\"\"\n",
    "        create a list to store words\n",
    "        for every item in children (letter => node)\n",
    "        base case => if node is a leaf append word to list of words\n",
    "        else => list of words += recursive call to collect letters in\n",
    "        suffix as suffix += letter\n",
    "        return list of words\n",
    "        \"\"\"\n",
    "        for key, next_node in node.children.items():\n",
    "            if next_node.is_word:\n",
    "                result.append(letters+key)\n",
    "            self.find_letters(next_node, letters+key, result)\n",
    "\n",
    "    def find_word(self, word):\n",
    "        ## Find the Trie node that represents this prefix\n",
    "        if self is None:\n",
    "            return None\n",
    "        node = self\n",
    "        for char in word:\n",
    "            if char not in node.children:\n",
    "                return (False, False)\n",
    "            node = node.children[char]\n",
    "        return (node.is_word, node.word)\n"
   ]
  },
  {
   "cell_type": "markdown",
   "metadata": {},
   "source": [
    "# Finding Suffixes\n",
    "\n",
    "Now that we have a functioning Trie, we need to add the ability to list suffixes to implement our autocomplete feature.  To do that, we need to implement a new function on the `TrieNode` object that will return all complete word suffixes that exist below it in the trie.  For example, if our Trie contains the words `[\"fun\", \"function\", \"factory\"]` and we ask for suffixes from the `f` node, we would expect to receive `[\"un\", \"unction\", \"actory\"]` back from `node.suffixes()`.\n",
    "\n",
    "Using the code you wrote for the `TrieNode` above, try to add the suffixes function below. (Hint: recurse down the trie, collecting suffixes as you go.)"
   ]
  },
  {
   "cell_type": "code",
   "execution_count": 2,
   "metadata": {},
   "outputs": [],
   "source": [
    "## The Trie itself containing the root node and insert/find functions\n",
    "class Trie:\n",
    "    def __init__(self):\n",
    "        ## Initialize this Trie (add a root node)\n",
    "        self.root = TrieNode()\n",
    "\n",
    "    def insert(self, word):\n",
    "        ## Add a word to the Trie\n",
    "        if self.root is None:\n",
    "            return None\n",
    "        node = self.root\n",
    "        for char in word:\n",
    "            if char not in node.children:\n",
    "                node.children[char] = TrieNode()\n",
    "            node = node.children[char]\n",
    "        node.is_word = True\n",
    "        node.word = word\n",
    "\n",
    "    def find_word(self, prefix):\n",
    "        ## Find the Trie node that represents this prefix\n",
    "        if self.root is None:\n",
    "            return None\n",
    "        node = self.root\n",
    "        for char in prefix:\n",
    "            if char not in node.children:\n",
    "                return False\n",
    "            node = node.children[char]\n",
    "        return (node.is_word, node.word)\n",
    "\n",
    "    def find_words(self, suffix):\n",
    "        if self.root is None:\n",
    "            return None\n",
    "        if suffix == '':\n",
    "            return None\n",
    "        node = self.root\n",
    "        return node.suffixes(suffix)\n"
   ]
  },
  {
   "cell_type": "markdown",
   "metadata": {},
   "source": [
    "# Testing it all out\n",
    "\n",
    "Run the following code to add some words to your trie and then use the interactive search box to see what your code returns."
   ]
  },
  {
   "cell_type": "code",
   "execution_count": 3,
   "metadata": {},
   "outputs": [],
   "source": [
    "MyTrie = Trie()\n",
    "wordList = [\"ant\", \"anthology\", \"antagonist\", \"antonym\",\n",
    "            \"fun\", \"function\", \"factory\", \"tensorflow\",\n",
    "            \"trie\", \"trigger\", \"trigonometry\", \"tripod\",\n",
    "            \"perfunctory\", \"zagnut\", \"zanzibar\", \"dredd\",\n",
    "            \"persnickety\"\n",
    "           ]\n",
    "for word in wordList:\n",
    "    MyTrie.insert(word)"
   ]
  },
  {
   "cell_type": "code",
   "execution_count": 4,
   "metadata": {},
   "outputs": [
    {
     "data": {
      "application/vnd.jupyter.widget-view+json": {
       "model_id": "9ce341267dbc4f568f14751234c88cb9",
       "version_major": 2,
       "version_minor": 0
      },
      "text/plain": [
       "interactive(children=(Text(value='', description='prefix'), Output()), _dom_classes=('widget-interact',))"
      ]
     },
     "metadata": {},
     "output_type": "display_data"
    }
   ],
   "source": [
    "from ipywidgets import widgets\n",
    "from IPython.display import display\n",
    "from ipywidgets import interact\n",
    "def f(prefix):\n",
    "    if prefix != '':\n",
    "        prefixNode = MyTrie.find_words(prefix)\n",
    "        if prefixNode:\n",
    "            print('\\n'.join(prefixNode))\n",
    "        else:\n",
    "            print(prefix + \" not found\")\n",
    "    else:\n",
    "        print('')\n",
    "interact(f,prefix='');"
   ]
  },
  {
   "cell_type": "code",
   "execution_count": null,
   "metadata": {},
   "outputs": [],
   "source": []
  }
 ],
 "metadata": {
  "kernelspec": {
   "display_name": "Python 3",
   "language": "python",
   "name": "python3"
  },
  "language_info": {
   "codemirror_mode": {
    "name": "ipython",
    "version": 3
   },
   "file_extension": ".py",
   "mimetype": "text/x-python",
   "name": "python",
   "nbconvert_exporter": "python",
   "pygments_lexer": "ipython3",
   "version": "3.7.3"
  },
  "widgets": {
   "state": {},
   "version": "1.1.2"
  }
 },
 "nbformat": 4,
 "nbformat_minor": 2
}
